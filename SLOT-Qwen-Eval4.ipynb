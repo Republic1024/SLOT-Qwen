{
 "cells": [
  {
   "cell_type": "markdown",
   "source": [],
   "metadata": {
    "collapsed": false
   },
   "id": "3d0216445bd77a79"
  },
  {
   "cell_type": "code",
   "outputs": [],
   "source": [
    "import torch\n",
    "from transformers import AutoTokenizer, AutoModelForCausalLM\n",
    "import torch\n",
    "import torch.nn as nn\n",
    "import os\n",
    "import matplotlib.pyplot as plt\n",
    "from skimage import io\n",
    "import seaborn as sns\n",
    "import warnings\n",
    "import numpy as np\n",
    "import warnings\n",
    "import pandas as pd\n",
    "import seaborn as sns\n",
    "import numpy as np\n",
    "import matplotlib.pyplot as plt\n",
    "import warnings\n",
    "from pylab import mpl, plt\n",
    "import matplotlib.patches as mpatches\n",
    "from tqdm.notebook import tqdm\n",
    "\n",
    "# best font and style settings for notebook \n",
    "warnings.filterwarnings('ignore')\n",
    "sns.set_style(\"white\")\n",
    "mpl.rcParams['font.family'] = 'MiSans'\n",
    "\n",
    "model_path = r\"D:\\pythonProject\\DeepSeek\\Recsys\\AnimeLLMRec\\Qwen3-0.6B\"  # modify to your Qwen Path\n",
    "model_path = r\"./Qwen3-1.7B\"\n",
    "tokenizer = AutoTokenizer.from_pretrained(model_path)\n",
    "model = AutoModelForCausalLM.from_pretrained(model_path).to(\"cuda\" if torch.cuda.is_available() else \"cpu\")"
   ],
   "metadata": {
    "collapsed": false
   },
   "id": "5c40a0c8ce972a1a",
   "execution_count": null
  },
  {
   "cell_type": "code",
   "outputs": [],
   "source": [
    "from delta_trainer import train_delta_from_H, generate_by_H, evaluate_slot_ceval, evaluate_slot_ceval_eos, \\\n",
    "    evaluate_slot_ceval_eos_2\n",
    "\n",
    "# 构造 prompt & 得到 H_state\n",
    "prompt = \"请写一段关于AI教育的引言。\"\n",
    "inputs = tokenizer(prompt, return_tensors=\"pt\").to(model.device)\n",
    "\n",
    "with torch.no_grad():\n",
    "    outputs = model(**inputs, output_hidden_states=True, return_dict=True)\n",
    "H = outputs.hidden_states[-1]\n",
    "\n",
    "# 调用 delta 训练\n",
    "delta_3 = train_delta_from_H(model, tokenizer, prompt, H, step=3)\n",
    "delta_10 = train_delta_from_H(model, tokenizer, prompt, H, step=10)\n",
    "delta_30 = train_delta_from_H(model, tokenizer, prompt, H, step=30)\n"
   ],
   "metadata": {
    "collapsed": false
   },
   "id": "cc16caa5c81a8ab2",
   "execution_count": null
  },
  {
   "cell_type": "code",
   "outputs": [],
   "source": [
    "# generate_by_H(model=model, prompt=prompt, tokenizer=tokenizer, delta=delta_3, answer_len=200)"
   ],
   "metadata": {
    "collapsed": false
   },
   "id": "d86f37fe68c63257",
   "execution_count": null
  },
  {
   "cell_type": "code",
   "outputs": [],
   "source": [
    "from datasets import get_dataset_config_names\n",
    "\n",
    "# 获取本地路径 \"./ceval-exam\" 中可用的所有子数据集名称（config names）\n",
    "dataset_path = \"./ceval-exam\"\n",
    "dataset_names = get_dataset_config_names(path=dataset_path)\n",
    "dataset_names"
   ],
   "metadata": {
    "collapsed": false
   },
   "id": "1c9ac52d60c83894",
   "execution_count": null
  },
  {
   "cell_type": "code",
   "execution_count": null,
   "id": "initial_id",
   "metadata": {
    "collapsed": true
   },
   "outputs": [],
   "source": [
    "from datasets import load_dataset\n",
    "\n",
    "dataset = load_dataset(r\"./ceval-exam\", name=\"computer_network\")\n",
    "print(dataset['val'][0])"
   ]
  },
  {
   "cell_type": "code",
   "outputs": [],
   "source": [
    "def evaluate_slot_ceval_eos(model, tokenizer, delta, example, max_len=20, verbose=True):\n",
    "    \"\"\"\n",
    "    基于 generate_by_H_eos 的评估函数，用于 C-Eval 单选题目。\n",
    "\n",
    "    返回：\n",
    "    - predict_option: 预测选项，如 'A'\n",
    "    - is_correct: 是否预测正确\n",
    "    \"\"\"\n",
    "    prompt = f\"\"\"以下是一道单项选择题，请你阅读题目并选择最合适的选项。\n",
    "\n",
    "题目：{example['question']}\n",
    "\n",
    "选项：\n",
    "A. {example['A']}\n",
    "B. {example['B']}\n",
    "C. {example['C']}\n",
    "D. {example['D']}\n",
    "\n",
    "答案是：\"\"\"\n",
    "\n",
    "    output_text = generate_by_H_eos(model, prompt, tokenizer, delta, answer_len=max_len)\n",
    "\n",
    "    if verbose:\n",
    "        print(\"🔍 模型生成结果:\\n\", output_text)\n",
    "\n",
    "    predict_option = None\n",
    "    for option in ['A', 'B', 'C', 'D']:\n",
    "        if option in output_text:\n",
    "            predict_option = option\n",
    "            break\n",
    "\n",
    "    is_correct = (predict_option == example['answer'])\n",
    "    # return predict_option, is_correct\n",
    "    return output_text, predict_option, example['answer'], is_correct"
   ],
   "metadata": {
    "collapsed": false
   },
   "id": "154970daa54d317c",
   "execution_count": null
  },
  {
   "cell_type": "code",
   "outputs": [],
   "source": [
    "# dataset_name = \"computer_network\"\n",
    "# dataset = load_dataset(r\"./ceval-exam\", name=dataset_name)\n",
    "# \n",
    "# correct = 0\n",
    "# total = 0\n",
    "# \n",
    "# answer_sheet = []\n",
    "# for ex in tqdm(dataset['val'], desc=\"Evaluating per-question delta\"):\n",
    "#     # === 构造每道题的 Prompt ===\n",
    "#     prompt = f\"\"\"以下是一道单项选择题，请你阅读题目，结合题目的知识背景，选择最合适的选项。\n",
    "#     题目：{ex['question']}\n",
    "#     \n",
    "#     选项：\n",
    "#     A. {ex['A']}\n",
    "#     B. {ex['B']}\n",
    "#     C. {ex['C']}\n",
    "#     D. {ex['D']}\n",
    "#     \n",
    "#     答案是：\"\"\"\n",
    "# \n",
    "#     # === 获取 H_state ===\n",
    "#     inputs = tokenizer(prompt, return_tensors=\"pt\").to(model.device)\n",
    "#     with torch.no_grad():\n",
    "#         outputs = model(**inputs, output_hidden_states=True, return_dict=True)\n",
    "#     H = outputs.hidden_states[-1]\n",
    "# \n",
    "#     # === 训练 delta（例如3步）===\n",
    "#     delta = train_delta_from_H(model, tokenizer, prompt, H, step=30)\n",
    "# \n",
    "#     # === 推理与评估 ===\n",
    "#     pred, pre_answer, answer, is_correct = evaluate_slot_ceval_eos(model, tokenizer, delta, ex, max_len=20,\n",
    "#                                                                    verbose=False)\n",
    "#     correct += int(is_correct)\n",
    "#     total += 1\n",
    "#     answer_sheet.append([pred, pre_answer, answer, is_correct, dataset_name])\n",
    "# print(f\"🎯 Accuracy (per-question delta): {correct}/{total} = {correct / total:.2%}\")\n"
   ],
   "metadata": {
    "collapsed": false
   },
   "id": "52ec9dd491c117a1",
   "execution_count": null
  },
  {
   "cell_type": "code",
   "outputs": [],
   "source": [
    "def evaluate_slot_ceval_eos(model, tokenizer, delta, example, prompt, max_len=20, verbose=True):\n",
    "    \"\"\"\n",
    "    基于 generate_by_H_eos 的评估函数，用于 C-Eval 单选题目。\n",
    "\n",
    "    返回：\n",
    "    - predict_option: 预测选项，如 'A'\n",
    "    - is_correct: 是否预测正确\n",
    "    # \"\"\"\n",
    "\n",
    "    output_text = generate_by_H_eos(model, prompt, tokenizer, delta, answer_len=max_len)\n",
    "\n",
    "    if verbose:\n",
    "        print(\"🔍 模型生成结果:\\n\", output_text)\n",
    "\n",
    "    predict_option = None\n",
    "    for option in ['A', 'B', 'C', 'D']:\n",
    "        if option in output_text:\n",
    "            predict_option = option\n",
    "            break\n",
    "\n",
    "    is_correct = (predict_option == example['answer'])\n",
    "    # return predict_option, is_correct\n",
    "    return output_text, predict_option, example['answer'], is_correct\n",
    "\n",
    "\n",
    "def eval_dataset(dataset_name, step=3, max_len=50, lr=1e-2):\n",
    "    # dataset_name = \"computer_network\"\n",
    "    dataset = load_dataset(r\"./ceval-exam\", name=dataset_name)\n",
    "\n",
    "    correct = 0\n",
    "    total = 0\n",
    "\n",
    "    answer_sheet = []\n",
    "    for ex in tqdm(dataset['val']):\n",
    "        # === 构造每道题的 Prompt ===\n",
    "        prompt = f\"\"\"以下是一道单项选择题，请你阅读题目，选择最合适的选项。\n",
    "        题目：{ex['question']}\n",
    "        选项：\n",
    "        A. {ex['A']}\n",
    "        B. {ex['B']}\n",
    "        C. {ex['C']}\n",
    "        D. {ex['D']}\n",
    "        答案是：\"\"\"\n",
    "        prompt = f\"\"\"请你扮演一位专业的考试助手，阅读下面的单项选择题，并根据内容在四个选项中选出最合适的一个。\n",
    "        \n",
    "        题目：\n",
    "        {ex['question']}\n",
    "        \n",
    "        选项：\n",
    "        A. {ex['A']}\n",
    "        B. {ex['B']}\n",
    "        C. {ex['C']}\n",
    "        D. {ex['D']}\n",
    "        \n",
    "        请直接回答选项字母（A/B/C/D）。\n",
    "        答案是：\"\"\"\n",
    "\n",
    "        # === 获取 H_state ===\n",
    "        inputs = tokenizer(prompt, return_tensors=\"pt\").to(model.device)\n",
    "        with torch.no_grad():\n",
    "            outputs = model(**inputs, output_hidden_states=True, return_dict=True)\n",
    "        H = outputs.hidden_states[-1]\n",
    "\n",
    "        # === 训练 delta（例如3步）===\n",
    "        delta = train_delta_from_H(model, tokenizer, prompt, H, step=step, lr=lr)\n",
    "\n",
    "        # === 推理与评估 ===\n",
    "        pred_txt, pre_answer, answer, is_correct = evaluate_slot_ceval_eos(model=model, tokenizer=tokenizer,\n",
    "                                                                           delta=delta,\n",
    "                                                                           example=ex, max_len=max_len, prompt=prompt,\n",
    "                                                                           verbose=False)\n",
    "        correct += int(is_correct)\n",
    "        total += 1\n",
    "        answer_sheet.append([prompt, pred_txt, pre_answer, answer, is_correct, dataset_name])\n",
    "    print(f\"🎯 {dataset_name} Accuracy (per-question delta): {correct}/{total} = {correct / total:.2%}\")\n",
    "    return answer_sheet"
   ],
   "metadata": {
    "collapsed": false
   },
   "id": "24d29f838758eb6",
   "execution_count": null
  },
  {
   "cell_type": "code",
   "outputs": [],
   "source": [
    "from delta_trainer import generate_by_H_eos\n",
    "\n"
   ],
   "metadata": {
    "collapsed": false
   },
   "id": "d14006ad9fb5ee14",
   "execution_count": null
  },
  {
   "cell_type": "code",
   "outputs": [],
   "source": [
    "len(dataset_names)"
   ],
   "metadata": {
    "collapsed": false
   },
   "id": "4d1a41f8865f96fe",
   "execution_count": null
  },
  {
   "cell_type": "code",
   "outputs": [],
   "source": [
    "step = 9\n",
    "max_len = 10\n",
    "answer_sheet = []\n",
    "for i in tqdm(dataset_names[:]):\n",
    "    answer_sheet += eval_dataset(i, step=step, max_len=max_len)\n",
    "    df_answer = pd.DataFrame(answer_sheet)\n",
    "    df_answer.to_csv(f\"./eval_result/1_7B/answer_step_{step}.csv\", index=False)"
   ],
   "metadata": {
    "collapsed": false
   },
   "id": "6b1d64dcbc199153",
   "execution_count": null
  },
  {
   "cell_type": "code",
   "outputs": [],
   "source": [
    "step = 6\n",
    "max_len = 10\n",
    "answer_sheet = []\n",
    "for i in tqdm(dataset_names[:]):\n",
    "    answer_sheet += eval_dataset(i, step=step, max_len=max_len)\n",
    "    df_answer = pd.DataFrame(answer_sheet)\n",
    "    df_answer.to_csv(f\"./eval_result/1_7B/answer_step_{step}.csv\", index=False)"
   ],
   "metadata": {
    "collapsed": false
   },
   "id": "b893d03f381eabb2",
   "execution_count": null
  },
  {
   "cell_type": "code",
   "outputs": [],
   "source": [
    "step = 3\n",
    "max_len = 10\n",
    "answer_sheet = []\n",
    "for i in tqdm(dataset_names[:]):\n",
    "    answer_sheet += eval_dataset(i, step=step, max_len=max_len)\n",
    "    df_answer = pd.DataFrame(answer_sheet)\n",
    "    df_answer.to_csv(f\"./eval_result/1_7B/answer_step_{step}.csv\", index=False)"
   ],
   "metadata": {
    "collapsed": false
   },
   "id": "d6f11cbd929207da",
   "execution_count": null
  },
  {
   "cell_type": "code",
   "outputs": [],
   "source": [
    "step = 0\n",
    "max_len = 10\n",
    "answer_sheet = []\n",
    "for i in tqdm(dataset_names[:]):\n",
    "    answer_sheet += eval_dataset(i, step=step, max_len=max_len)\n",
    "    df_answer = pd.DataFrame(answer_sheet)\n",
    "    df_answer.to_csv(f\"./eval_result/1_7B/answer_step_{step}.csv\", index=False)"
   ],
   "metadata": {
    "collapsed": false
   },
   "id": "723b68c8959da502",
   "execution_count": null
  },
  {
   "cell_type": "code",
   "outputs": [
    {
     "data": {
      "text/plain": "                                                      0  \\\n0     请你扮演一位专业的考试助手，阅读下面的单项选择题，并根据内容在四个选项中选出最合适的一个。\\...   \n1     请你扮演一位专业的考试助手，阅读下面的单项选择题，并根据内容在四个选项中选出最合适的一个。\\...   \n2     请你扮演一位专业的考试助手，阅读下面的单项选择题，并根据内容在四个选项中选出最合适的一个。\\...   \n3     请你扮演一位专业的考试助手，阅读下面的单项选择题，并根据内容在四个选项中选出最合适的一个。\\...   \n4     请你扮演一位专业的考试助手，阅读下面的单项选择题，并根据内容在四个选项中选出最合适的一个。\\...   \n...                                                 ...   \n1341  请你扮演一位专业的考试助手，阅读下面的单项选择题，并根据内容在四个选项中选出最合适的一个。\\...   \n1342  请你扮演一位专业的考试助手，阅读下面的单项选择题，并根据内容在四个选项中选出最合适的一个。\\...   \n1343  请你扮演一位专业的考试助手，阅读下面的单项选择题，并根据内容在四个选项中选出最合适的一个。\\...   \n1344  请你扮演一位专业的考试助手，阅读下面的单项选择题，并根据内容在四个选项中选出最合适的一个。\\...   \n1345  请你扮演一位专业的考试助手，阅读下面的单项选择题，并根据内容在四个选项中选出最合适的一个。\\...   \n\n                                         1  2  3      4                    5  \n0                      D\\n        你的回答应为：D  D  D   True           accountant  \n1     C\\n        请说明理由。\\n        \\n         C  C   True           accountant  \n2     D\\n        请说明理由。\\n        \\n         D  D   True           accountant  \n3             A\\n        请说明理由。\\n        �  A  A   True           accountant  \n4     C\\n        请说明理由。\\n        \\n         C  C   True           accountant  \n...                                    ... .. ..    ...                  ...  \n1341  A\\n        请说明理由。\\n        \\n         A  A   True  veterinary_medicine  \n1342                   D\\n        请说明理由： 本  D  D   True  veterinary_medicine  \n1343                   C\\n        请说明理由： 该  C  A  False  veterinary_medicine  \n1344  C\\n        请说明理由。\\n        \\n         C  C   True  veterinary_medicine  \n1345          C\\n        请说明理由：\\n        �  C  C   True  veterinary_medicine  \n\n[1346 rows x 6 columns]",
      "text/html": "<div>\n<style scoped>\n    .dataframe tbody tr th:only-of-type {\n        vertical-align: middle;\n    }\n\n    .dataframe tbody tr th {\n        vertical-align: top;\n    }\n\n    .dataframe thead th {\n        text-align: right;\n    }\n</style>\n<table border=\"1\" class=\"dataframe\">\n  <thead>\n    <tr style=\"text-align: right;\">\n      <th></th>\n      <th>0</th>\n      <th>1</th>\n      <th>2</th>\n      <th>3</th>\n      <th>4</th>\n      <th>5</th>\n    </tr>\n  </thead>\n  <tbody>\n    <tr>\n      <th>0</th>\n      <td>请你扮演一位专业的考试助手，阅读下面的单项选择题，并根据内容在四个选项中选出最合适的一个。\\...</td>\n      <td>D\\n        你的回答应为：D</td>\n      <td>D</td>\n      <td>D</td>\n      <td>True</td>\n      <td>accountant</td>\n    </tr>\n    <tr>\n      <th>1</th>\n      <td>请你扮演一位专业的考试助手，阅读下面的单项选择题，并根据内容在四个选项中选出最合适的一个。\\...</td>\n      <td>C\\n        请说明理由。\\n        \\n</td>\n      <td>C</td>\n      <td>C</td>\n      <td>True</td>\n      <td>accountant</td>\n    </tr>\n    <tr>\n      <th>2</th>\n      <td>请你扮演一位专业的考试助手，阅读下面的单项选择题，并根据内容在四个选项中选出最合适的一个。\\...</td>\n      <td>D\\n        请说明理由。\\n        \\n</td>\n      <td>D</td>\n      <td>D</td>\n      <td>True</td>\n      <td>accountant</td>\n    </tr>\n    <tr>\n      <th>3</th>\n      <td>请你扮演一位专业的考试助手，阅读下面的单项选择题，并根据内容在四个选项中选出最合适的一个。\\...</td>\n      <td>A\\n        请说明理由。\\n        �</td>\n      <td>A</td>\n      <td>A</td>\n      <td>True</td>\n      <td>accountant</td>\n    </tr>\n    <tr>\n      <th>4</th>\n      <td>请你扮演一位专业的考试助手，阅读下面的单项选择题，并根据内容在四个选项中选出最合适的一个。\\...</td>\n      <td>C\\n        请说明理由。\\n        \\n</td>\n      <td>C</td>\n      <td>C</td>\n      <td>True</td>\n      <td>accountant</td>\n    </tr>\n    <tr>\n      <th>...</th>\n      <td>...</td>\n      <td>...</td>\n      <td>...</td>\n      <td>...</td>\n      <td>...</td>\n      <td>...</td>\n    </tr>\n    <tr>\n      <th>1341</th>\n      <td>请你扮演一位专业的考试助手，阅读下面的单项选择题，并根据内容在四个选项中选出最合适的一个。\\...</td>\n      <td>A\\n        请说明理由。\\n        \\n</td>\n      <td>A</td>\n      <td>A</td>\n      <td>True</td>\n      <td>veterinary_medicine</td>\n    </tr>\n    <tr>\n      <th>1342</th>\n      <td>请你扮演一位专业的考试助手，阅读下面的单项选择题，并根据内容在四个选项中选出最合适的一个。\\...</td>\n      <td>D\\n        请说明理由： 本</td>\n      <td>D</td>\n      <td>D</td>\n      <td>True</td>\n      <td>veterinary_medicine</td>\n    </tr>\n    <tr>\n      <th>1343</th>\n      <td>请你扮演一位专业的考试助手，阅读下面的单项选择题，并根据内容在四个选项中选出最合适的一个。\\...</td>\n      <td>C\\n        请说明理由： 该</td>\n      <td>C</td>\n      <td>A</td>\n      <td>False</td>\n      <td>veterinary_medicine</td>\n    </tr>\n    <tr>\n      <th>1344</th>\n      <td>请你扮演一位专业的考试助手，阅读下面的单项选择题，并根据内容在四个选项中选出最合适的一个。\\...</td>\n      <td>C\\n        请说明理由。\\n        \\n</td>\n      <td>C</td>\n      <td>C</td>\n      <td>True</td>\n      <td>veterinary_medicine</td>\n    </tr>\n    <tr>\n      <th>1345</th>\n      <td>请你扮演一位专业的考试助手，阅读下面的单项选择题，并根据内容在四个选项中选出最合适的一个。\\...</td>\n      <td>C\\n        请说明理由：\\n        �</td>\n      <td>C</td>\n      <td>C</td>\n      <td>True</td>\n      <td>veterinary_medicine</td>\n    </tr>\n  </tbody>\n</table>\n<p>1346 rows × 6 columns</p>\n</div>"
     },
     "execution_count": 20,
     "metadata": {},
     "output_type": "execute_result"
    }
   ],
   "source": [
    "pd.DataFrame(answer_sheet)"
   ],
   "metadata": {
    "collapsed": false,
    "ExecuteTime": {
     "end_time": "2025-06-06T13:19:57.383527900Z",
     "start_time": "2025-06-06T13:19:57.360527600Z"
    }
   },
   "id": "a2795484e22285b5",
   "execution_count": 20
  },
  {
   "cell_type": "code",
   "outputs": [],
   "source": [
    "# from tqdm import tqdm\n",
    "from tqdm.notebook import tqdm\n",
    "\n",
    "correct = 0\n",
    "total = 0\n",
    "\n",
    "for ex in tqdm(dataset['test'], desc=\"Evaluating per-question delta\"):\n",
    "    # === 构造每道题的 Prompt ===\n",
    "    prompt = f\"\"\"以下是一道单项选择题，请你阅读题目并选择最合适的选项。\n",
    "\n",
    "题目：{ex['question']}\n",
    "\n",
    "选项：\n",
    "A. {ex['A']}\n",
    "B. {ex['B']}\n",
    "C. {ex['C']}\n",
    "D. {ex['D']}\n",
    "\n",
    "答案是：\"\"\"\n",
    "\n",
    "    # === 获取 H_state ===\n",
    "    inputs = tokenizer(prompt, return_tensors=\"pt\").to(model.device)\n",
    "    with torch.no_grad():\n",
    "        outputs = model(**inputs, output_hidden_states=True, return_dict=True)\n",
    "    H = outputs.hidden_states[-1]\n",
    "\n",
    "    # === 训练 delta（例如3步）===\n",
    "    delta = train_delta_from_H(model, tokenizer, prompt, H, step=3)\n",
    "\n",
    "    # === 推理与评估 ===\n",
    "    pred, is_correct = evaluate_slot_ceval_eos(model, tokenizer, delta, ex, max_len=200, verbose=False)\n",
    "    print(pred, ex)\n",
    "    correct += int(is_correct)\n",
    "    total += 1\n",
    "\n",
    "print(f\"🎯 Accuracy (per-question delta): {correct}/{total} = {correct / total:.2%}\")\n"
   ],
   "metadata": {
    "collapsed": false
   },
   "id": "bbe6e22059438a2c",
   "execution_count": null
  },
  {
   "cell_type": "code",
   "outputs": [],
   "source": [
    "def get_empty_delta(H_state):\n",
    "    hidden_size = H_state.size(-1)\n",
    "    delta = nn.Parameter(torch.zeros((1, 1, hidden_size), device=H_state.device, requires_grad=True))\n",
    "\n",
    "    return delta\n",
    "\n",
    "\n",
    "delta_empty = get_empty_delta(H_state=H)\n",
    "delta_empty.shape"
   ],
   "metadata": {
    "collapsed": false
   },
   "id": "ce3f8fac32a9d102",
   "execution_count": null
  },
  {
   "cell_type": "code",
   "outputs": [],
   "source": [
    "from tqdm.notebook import tqdm\n",
    "\n",
    "correct = 0\n",
    "total = 0\n",
    "\n",
    "for ex in tqdm(dataset['test'], desc=\"Evaluating per-question delta\"):\n",
    "    # === 构造每道题的 Prompt ===\n",
    "    prompt = f\"\"\"以下是一道单项选择题，请你阅读题目并选择最合适的选项。\n",
    "    \n",
    "    题目：{ex['question']}\n",
    "    \n",
    "    选项：\n",
    "    A. {ex['A']}\n",
    "    B. {ex['B']}\n",
    "    C. {ex['C']}\n",
    "    D. {ex['D']}\n",
    "    \n",
    "    答案是：\"\"\"\n",
    "\n",
    "    # === 推理与评估 ===\n",
    "    pred, is_correct = evaluate_slot_ceval_eos(model, tokenizer, delta_empty, ex, max_len=20, verbose=True)\n",
    "    correct += int(is_correct)\n",
    "    total += 1\n",
    "\n",
    "print(f\"🎯 Accuracy (per-question delta): {correct}/{total} = {correct / total:.2%}\")\n"
   ],
   "metadata": {
    "collapsed": false
   },
   "id": "a559f50747db9f70",
   "execution_count": null
  },
  {
   "cell_type": "code",
   "outputs": [],
   "source": [
    "from delta_trainer import generate_by_H_eos\n",
    "\n",
    "\n",
    "def evaluate_slot_ceval_eos_2(model, tokenizer, delta, example, max_len=20, verbose=True):\n",
    "    \"\"\"\n",
    "    基于 generate_by_H_eos 的评估函数，用于 C-Eval 单选题目。\n",
    "\n",
    "    返回：\n",
    "    - predict_option: 预测选项，如 'A'\n",
    "    - is_correct: 是否预测正确\n",
    "    \"\"\"\n",
    "    prompt = f\"\"\"以下是一道单项选择题，请你阅读题目并选择最合适的选项。\n",
    "\n",
    "题目：{example['question']}\n",
    "\n",
    "选项：\n",
    "A. {example['A']}\n",
    "B. {example['B']}\n",
    "C. {example['C']}\n",
    "D. {example['D']}\n",
    "\n",
    "答案是：\"\"\"\n",
    "\n",
    "    output_text = generate_by_H_eos(model, prompt, tokenizer, delta, answer_len=max_len)\n",
    "\n",
    "    if verbose:\n",
    "        print(\"🔍 模型生成结果:\\n\", output_text)\n",
    "\n",
    "    predict_option = None\n",
    "    for option in ['A', 'B', 'C', 'D']:\n",
    "        if option in output_text:\n",
    "            predict_option = option\n",
    "            break\n",
    "\n",
    "    print(predict_option, example['answer'])\n",
    "    is_correct = (predict_option == example['answer'])\n",
    "    return predict_option, predict_option, example['answer']\n"
   ],
   "metadata": {
    "collapsed": false
   },
   "id": "7274c61d5f52b83d",
   "execution_count": null
  },
  {
   "cell_type": "code",
   "outputs": [],
   "source": [
    "from tqdm.notebook import tqdm\n",
    "\n",
    "correct = 0\n",
    "total = 0\n",
    "\n",
    "for ex in tqdm(dataset['test'], desc=\"Evaluating per-question delta\"):\n",
    "    # === 构造每道题的 Prompt ===\n",
    "    prompt = f\"\"\"以下是一道单项选择题，请你阅读题目并选择最合适的选项。\n",
    "    \n",
    "    题目：{ex['question']}\n",
    "    \n",
    "    选项：\n",
    "    A. {ex['A']}\n",
    "    B. {ex['B']}\n",
    "    C. {ex['C']}\n",
    "    D. {ex['D']}\n",
    "    \n",
    "    答案是：\"\"\"\n",
    "\n",
    "    # === 推理与评估 ===\n",
    "    pred, predict, truth = evaluate_slot_ceval_eos_2(model, tokenizer, delta_empty, ex, max_len=20, verbose=False)\n",
    "    # print(predict,truth)\n",
    "    correct += int(predict == truth)\n",
    "    total += 1\n",
    "\n",
    "print(f\"🎯 Accuracy (per-question delta): {correct}/{total} = {correct / total:.2%}\")\n"
   ],
   "metadata": {
    "collapsed": false
   },
   "id": "5bacbd63589b8d55",
   "execution_count": null
  },
  {
   "cell_type": "code",
   "outputs": [],
   "source": [
    "for ex in tqdm(dataset['val'], desc=\"Evaluating per-question delta\"):\n",
    "    # === 构造每道题的 Prompt ===\n",
    "    prompt = f\"\"\"以下是一道单项选择题，请你阅读题目并选择最合适的选项。\n",
    "\n",
    "题目：{ex['question']}\n",
    "\n",
    "选项：\n",
    "A. {ex['A']}\n",
    "B. {ex['B']}\n",
    "C. {ex['C']}\n",
    "D. {ex['D']}\n",
    "\n",
    "答案是：\"\"\"\n",
    "    print(prompt)"
   ],
   "metadata": {
    "collapsed": false
   },
   "id": "a3be944ae2d6143b",
   "execution_count": null
  }
 ],
 "metadata": {
  "kernelspec": {
   "display_name": "Python 3",
   "language": "python",
   "name": "python3"
  },
  "language_info": {
   "codemirror_mode": {
    "name": "ipython",
    "version": 2
   },
   "file_extension": ".py",
   "mimetype": "text/x-python",
   "name": "python",
   "nbconvert_exporter": "python",
   "pygments_lexer": "ipython2",
   "version": "2.7.6"
  }
 },
 "nbformat": 4,
 "nbformat_minor": 5
}
