{
 "cells": [
  {
   "cell_type": "markdown",
   "source": [],
   "metadata": {
    "collapsed": false
   },
   "id": "3d0216445bd77a79"
  },
  {
   "cell_type": "code",
   "outputs": [],
   "source": [
    "import torch\n",
    "from transformers import AutoTokenizer, AutoModelForCausalLM\n",
    "import torch\n",
    "import torch.nn as nn\n",
    "import os\n",
    "import matplotlib.pyplot as plt\n",
    "from skimage import io\n",
    "import seaborn as sns\n",
    "import warnings\n",
    "import numpy as np\n",
    "import warnings\n",
    "import pandas as pd\n",
    "import seaborn as sns\n",
    "import numpy as np\n",
    "import matplotlib.pyplot as plt\n",
    "import warnings\n",
    "from pylab import mpl, plt\n",
    "import matplotlib.patches as mpatches\n",
    "from tqdm.notebook import tqdm\n",
    "\n",
    "# best font and style settings for notebook \n",
    "warnings.filterwarnings('ignore')\n",
    "sns.set_style(\"white\")\n",
    "mpl.rcParams['font.family'] = 'MiSans'\n",
    "\n",
    "model_path = r\"D:\\pythonProject\\DeepSeek\\Recsys\\AnimeLLMRec\\Qwen3-0.6B\"  # modify to your Qwen Path\n",
    "model_path = r\"./Qwen3-1.7B\"\n",
    "tokenizer = AutoTokenizer.from_pretrained(model_path)\n",
    "model = AutoModelForCausalLM.from_pretrained(model_path).to(\"cuda\" if torch.cuda.is_available() else \"cpu\")"
   ],
   "metadata": {
    "collapsed": false
   },
   "id": "5c40a0c8ce972a1a",
   "execution_count": null
  },
  {
   "cell_type": "code",
   "outputs": [],
   "source": [
    "from delta_trainer import train_delta_from_H, generate_by_H, evaluate_slot_ceval, evaluate_slot_ceval_eos, \\\n",
    "    evaluate_slot_ceval_eos_2\n",
    "\n",
    "# 构造 prompt & 得到 H_state\n",
    "prompt = \"请写一段关于AI教育的引言。\"\n",
    "inputs = tokenizer(prompt, return_tensors=\"pt\").to(model.device)\n",
    "\n",
    "with torch.no_grad():\n",
    "    outputs = model(**inputs, output_hidden_states=True, return_dict=True)\n",
    "H = outputs.hidden_states[-1]\n",
    "\n",
    "# 调用 delta 训练\n",
    "delta_3 = train_delta_from_H(model, tokenizer, prompt, H, step=3)\n",
    "delta_10 = train_delta_from_H(model, tokenizer, prompt, H, step=10)\n",
    "delta_30 = train_delta_from_H(model, tokenizer, prompt, H, step=30)\n"
   ],
   "metadata": {
    "collapsed": false
   },
   "id": "cc16caa5c81a8ab2",
   "execution_count": null
  },
  {
   "cell_type": "code",
   "outputs": [],
   "source": [
    "# generate_by_H(model=model, prompt=prompt, tokenizer=tokenizer, delta=delta_3, answer_len=200)"
   ],
   "metadata": {
    "collapsed": false
   },
   "id": "d86f37fe68c63257",
   "execution_count": null
  },
  {
   "cell_type": "code",
   "outputs": [],
   "source": [
    "from datasets import get_dataset_config_names\n",
    "\n",
    "# 获取本地路径 \"./ceval-exam\" 中可用的所有子数据集名称（config names）\n",
    "dataset_path = \"./ceval-exam\"\n",
    "dataset_names = get_dataset_config_names(path=dataset_path)\n",
    "dataset_names"
   ],
   "metadata": {
    "collapsed": false
   },
   "id": "1c9ac52d60c83894",
   "execution_count": null
  },
  {
   "cell_type": "code",
   "execution_count": null,
   "id": "initial_id",
   "metadata": {
    "collapsed": true
   },
   "outputs": [],
   "source": [
    "from datasets import load_dataset\n",
    "\n",
    "dataset = load_dataset(r\"./ceval-exam\", name=\"computer_network\")\n",
    "print(dataset['val'][0])"
   ]
  },
  {
   "cell_type": "code",
   "outputs": [],
   "source": [
    "def evaluate_slot_ceval_eos(model, tokenizer, delta, example, max_len=20, verbose=True):\n",
    "    \"\"\"\n",
    "    基于 generate_by_H_eos 的评估函数，用于 C-Eval 单选题目。\n",
    "\n",
    "    返回：\n",
    "    - predict_option: 预测选项，如 'A'\n",
    "    - is_correct: 是否预测正确\n",
    "    \"\"\"\n",
    "    prompt = f\"\"\"以下是一道单项选择题，请你阅读题目并选择最合适的选项。\n",
    "\n",
    "题目：{example['question']}\n",
    "\n",
    "选项：\n",
    "A. {example['A']}\n",
    "B. {example['B']}\n",
    "C. {example['C']}\n",
    "D. {example['D']}\n",
    "\n",
    "答案是：\"\"\"\n",
    "\n",
    "    output_text = generate_by_H_eos(model, prompt, tokenizer, delta, answer_len=max_len)\n",
    "\n",
    "    if verbose:\n",
    "        print(\"🔍 模型生成结果:\\n\", output_text)\n",
    "\n",
    "    predict_option = None\n",
    "    for option in ['A', 'B', 'C', 'D']:\n",
    "        if option in output_text:\n",
    "            predict_option = option\n",
    "            break\n",
    "\n",
    "    is_correct = (predict_option == example['answer'])\n",
    "    # return predict_option, is_correct\n",
    "    return output_text, predict_option, example['answer'], is_correct"
   ],
   "metadata": {
    "collapsed": false
   },
   "id": "154970daa54d317c",
   "execution_count": null
  },
  {
   "cell_type": "code",
   "outputs": [],
   "source": [
    "# dataset_name = \"computer_network\"\n",
    "# dataset = load_dataset(r\"./ceval-exam\", name=dataset_name)\n",
    "# \n",
    "# correct = 0\n",
    "# total = 0\n",
    "# \n",
    "# answer_sheet = []\n",
    "# for ex in tqdm(dataset['val'], desc=\"Evaluating per-question delta\"):\n",
    "#     # === 构造每道题的 Prompt ===\n",
    "#     prompt = f\"\"\"以下是一道单项选择题，请你阅读题目，结合题目的知识背景，选择最合适的选项。\n",
    "#     题目：{ex['question']}\n",
    "#     \n",
    "#     选项：\n",
    "#     A. {ex['A']}\n",
    "#     B. {ex['B']}\n",
    "#     C. {ex['C']}\n",
    "#     D. {ex['D']}\n",
    "#     \n",
    "#     答案是：\"\"\"\n",
    "# \n",
    "#     # === 获取 H_state ===\n",
    "#     inputs = tokenizer(prompt, return_tensors=\"pt\").to(model.device)\n",
    "#     with torch.no_grad():\n",
    "#         outputs = model(**inputs, output_hidden_states=True, return_dict=True)\n",
    "#     H = outputs.hidden_states[-1]\n",
    "# \n",
    "#     # === 训练 delta（例如3步）===\n",
    "#     delta = train_delta_from_H(model, tokenizer, prompt, H, step=30)\n",
    "# \n",
    "#     # === 推理与评估 ===\n",
    "#     pred, pre_answer, answer, is_correct = evaluate_slot_ceval_eos(model, tokenizer, delta, ex, max_len=20,\n",
    "#                                                                    verbose=False)\n",
    "#     correct += int(is_correct)\n",
    "#     total += 1\n",
    "#     answer_sheet.append([pred, pre_answer, answer, is_correct, dataset_name])\n",
    "# print(f\"🎯 Accuracy (per-question delta): {correct}/{total} = {correct / total:.2%}\")\n"
   ],
   "metadata": {
    "collapsed": false
   },
   "id": "52ec9dd491c117a1",
   "execution_count": null
  },
  {
   "cell_type": "code",
   "outputs": [],
   "source": [
    "\n",
    "\n",
    "\n",
    "from delta_trainer import generate_by_H_eos\n",
    "\n",
    "import torch\n",
    "from tqdm.notebook import tqdm\n",
    "\n",
    "\n",
    "def generate_by_H_eos_fast(model, prompt, tokenizer, delta, answer_len=100):\n",
    "    \"\"\"\n",
    "    使用 past_key_values 加速，支持 eos 截断的 H 层扰动生成。\n",
    "\n",
    "    参数：\n",
    "    - model: 支持 use_cache 的 decoder-only 模型（如 GPT 系列）\n",
    "    - prompt: 输入文本\n",
    "    - tokenizer: 分词器\n",
    "    - delta: shape=[1, 1, hidden_size] 的扰动张量\n",
    "    - answer_len: 最多生成 token 数\n",
    "\n",
    "    返回：\n",
    "    - record_txt: 解码后的文本（不含 prompt 部分）\n",
    "    \"\"\"\n",
    "    eos_token_id = tokenizer.eos_token_id\n",
    "    inputs = tokenizer(prompt, return_tensors=\"pt\").to(model.device)\n",
    "    input_ids = inputs[\"input_ids\"]  # [1, L_prompt]\n",
    "\n",
    "    with torch.no_grad():\n",
    "        # 初始化推理，缓存 key_values\n",
    "        outputs = model(input_ids=input_ids, return_dict=True, output_hidden_states=True, use_cache=True)\n",
    "        past_key_values = outputs.past_key_values\n",
    "\n",
    "        # 首个扰动 + 生成\n",
    "        H_last = outputs.hidden_states[-1][:, -1, :] + delta.squeeze(1)  # [1, hidden_size]\n",
    "        logits = torch.matmul(H_last, model.lm_head.weight.T)\n",
    "        next_token_id = torch.argmax(logits, dim=-1, keepdim=True)  # [1, 1]\n",
    "\n",
    "    record = [next_token_id]  # 收集生成 token\n",
    "\n",
    "    for _ in range(answer_len - 1):  # 已生成 1 个，最多生成 answer_len 个\n",
    "        if next_token_id.item() == eos_token_id:\n",
    "            break\n",
    "\n",
    "        with torch.no_grad():\n",
    "            outputs = model(\n",
    "                input_ids=next_token_id,\n",
    "                past_key_values=past_key_values,\n",
    "                return_dict=True,\n",
    "                output_hidden_states=True,\n",
    "                use_cache=True\n",
    "            )\n",
    "            past_key_values = outputs.past_key_values\n",
    "            H_last = outputs.hidden_states[-1][:, -1, :] + delta.squeeze(1)\n",
    "            logits = torch.matmul(H_last, model.lm_head.weight.T)\n",
    "            next_token_id = torch.argmax(logits, dim=-1, keepdim=True)  # [1, 1]\n",
    "\n",
    "        record.append(next_token_id)\n",
    "\n",
    "    # 拼接生成序列（不含 prompt）\n",
    "    gen_ids = torch.cat(record, dim=-1)  # [1, T]\n",
    "    record_txt = tokenizer.decode(gen_ids[0], skip_special_tokens=True)\n",
    "    return record_txt\n",
    "\n",
    "\n",
    "def evaluate_slot_ceval_eos(model, tokenizer, delta, example, prompt, max_len=20, verbose=True):\n",
    "    \"\"\"\n",
    "    基于 generate_by_H_eos 的评估函数，用于 C-Eval 单选题目。\n",
    "\n",
    "    返回：\n",
    "    - predict_option: 预测选项，如 'A'\n",
    "    - is_correct: 是否预测正确\n",
    "    # \"\"\"\n",
    "\n",
    "    # output_text = generate_by_H_eos(model, prompt, tokenizer, delta, answer_len=max_len)\n",
    "    output_text = generate_by_H_eos_fast(model, prompt, tokenizer, delta, answer_len=max_len)\n",
    "\n",
    "    if verbose:\n",
    "        print(\"🔍 模型生成结果:\\n\", output_text)\n",
    "\n",
    "    predict_option = None\n",
    "    for option in ['A', 'B', 'C', 'D']:\n",
    "        if option in output_text:\n",
    "            predict_option = option\n",
    "            break\n",
    "\n",
    "    is_correct = (predict_option == example['answer'])\n",
    "    # return predict_option, is_correct\n",
    "    return output_text, predict_option, example['answer'], is_correct\n",
    "\n",
    "\n",
    "def eval_dataset(dataset_name, step=3, max_len=50, lr=1e-2):\n",
    "    # dataset_name = \"computer_network\"\n",
    "    dataset = load_dataset(r\"./ceval-exam\", name=dataset_name)\n",
    "\n",
    "    correct = 0\n",
    "    total = 0\n",
    "\n",
    "    answer_sheet = []\n",
    "    for ex in tqdm(dataset['val']):\n",
    "        # === 构造每道题的 Prompt ===\n",
    "        prompt = f\"\"\"以下是一道单项选择题，请你阅读题目，选择最合适的选项。\n",
    "        题目：{ex['question']}\n",
    "        选项：\n",
    "        A. {ex['A']}\n",
    "        B. {ex['B']}\n",
    "        C. {ex['C']}\n",
    "        D. {ex['D']}\n",
    "        答案是：\"\"\"\n",
    "        prompt = f\"\"\"请你扮演一位专业的考试助手，阅读下面的单项选择题，并根据内容在四个选项中选出最合适的一个。\n",
    "        \n",
    "        题目：\n",
    "        {ex['question']}\n",
    "        \n",
    "        选项：\n",
    "        A. {ex['A']}\n",
    "        B. {ex['B']}\n",
    "        C. {ex['C']}\n",
    "        D. {ex['D']}\n",
    "        \n",
    "        答案是：\"\"\"\n",
    "\n",
    "        # === 获取 H_state ===\n",
    "        inputs = tokenizer(prompt, return_tensors=\"pt\").to(model.device)\n",
    "        with torch.no_grad():\n",
    "            outputs = model(**inputs, output_hidden_states=True, return_dict=True)\n",
    "        H = outputs.hidden_states[-1]\n",
    "\n",
    "        # === 训练 delta（例如3步）===\n",
    "        delta = train_delta_from_H(model, tokenizer, prompt, H, step=step, lr=lr)\n",
    "\n",
    "        # === 推理与评估 ===\n",
    "        pred_txt, pre_answer, answer, is_correct = evaluate_slot_ceval_eos(model=model, tokenizer=tokenizer,\n",
    "                                                                           delta=delta,\n",
    "                                                                           example=ex, max_len=max_len, prompt=prompt,\n",
    "                                                                           verbose=False)\n",
    "        correct += int(is_correct)\n",
    "        total += 1\n",
    "        answer_sheet.append([prompt, pred_txt, pre_answer, answer, is_correct, dataset_name])\n",
    "    print(f\"🎯 {dataset_name} Accuracy (per-question delta): {correct}/{total} = {correct / total:.2%}\")\n",
    "    return answer_sheet"
   ],
   "metadata": {
    "collapsed": false,
    "ExecuteTime": {
     "end_time": "2025-06-06T14:31:26.513166600Z",
     "start_time": "2025-06-06T14:31:26.497166600Z"
    }
   },
   "id": "24d29f838758eb6",
   "execution_count": 52
  },
  {
   "cell_type": "code",
   "outputs": [
    {
     "data": {
      "text/plain": "  0%|          | 0/1 [00:00<?, ?it/s]",
      "application/vnd.jupyter.widget-view+json": {
       "version_major": 2,
       "version_minor": 0,
       "model_id": "7c95951f1af04704bea212052aa9b2b4"
      }
     },
     "metadata": {},
     "output_type": "display_data"
    },
    {
     "data": {
      "text/plain": "  0%|          | 0/24 [00:00<?, ?it/s]",
      "application/vnd.jupyter.widget-view+json": {
       "version_major": 2,
       "version_minor": 0,
       "model_id": "9648907f9cae46c99bd97b8e8daa1e52"
      }
     },
     "metadata": {},
     "output_type": "display_data"
    },
    {
     "name": "stdout",
     "output_type": "stream",
     "text": [
      "🎯 college_chemistry Accuracy (per-question delta): 11/24 = 45.83%\n"
     ]
    },
    {
     "data": {
      "text/plain": "                                                    0  \\\n0   请你扮演一位专业的考试助手，阅读下面的单项选择题，并根据内容在四个选项中选出最合适的一个。\\...   \n1   请你扮演一位专业的考试助手，阅读下面的单项选择题，并根据内容在四个选项中选出最合适的一个。\\...   \n2   请你扮演一位专业的考试助手，阅读下面的单项选择题，并根据内容在四个选项中选出最合适的一个。\\...   \n3   请你扮演一位专业的考试助手，阅读下面的单项选择题，并根据内容在四个选项中选出最合适的一个。\\...   \n4   请你扮演一位专业的考试助手，阅读下面的单项选择题，并根据内容在四个选项中选出最合适的一个。\\...   \n5   请你扮演一位专业的考试助手，阅读下面的单项选择题，并根据内容在四个选项中选出最合适的一个。\\...   \n6   请你扮演一位专业的考试助手，阅读下面的单项选择题，并根据内容在四个选项中选出最合适的一个。\\...   \n7   请你扮演一位专业的考试助手，阅读下面的单项选择题，并根据内容在四个选项中选出最合适的一个。\\...   \n8   请你扮演一位专业的考试助手，阅读下面的单项选择题，并根据内容在四个选项中选出最合适的一个。\\...   \n9   请你扮演一位专业的考试助手，阅读下面的单项选择题，并根据内容在四个选项中选出最合适的一个。\\...   \n10  请你扮演一位专业的考试助手，阅读下面的单项选择题，并根据内容在四个选项中选出最合适的一个。\\...   \n11  请你扮演一位专业的考试助手，阅读下面的单项选择题，并根据内容在四个选项中选出最合适的一个。\\...   \n12  请你扮演一位专业的考试助手，阅读下面的单项选择题，并根据内容在四个选项中选出最合适的一个。\\...   \n13  请你扮演一位专业的考试助手，阅读下面的单项选择题，并根据内容在四个选项中选出最合适的一个。\\...   \n14  请你扮演一位专业的考试助手，阅读下面的单项选择题，并根据内容在四个选项中选出最合适的一个。\\...   \n15  请你扮演一位专业的考试助手，阅读下面的单项选择题，并根据内容在四个选项中选出最合适的一个。\\...   \n16  请你扮演一位专业的考试助手，阅读下面的单项选择题，并根据内容在四个选项中选出最合适的一个。\\...   \n17  请你扮演一位专业的考试助手，阅读下面的单项选择题，并根据内容在四个选项中选出最合适的一个。\\...   \n18  请你扮演一位专业的考试助手，阅读下面的单项选择题，并根据内容在四个选项中选出最合适的一个。\\...   \n19  请你扮演一位专业的考试助手，阅读下面的单项选择题，并根据内容在四个选项中选出最合适的一个。\\...   \n20  请你扮演一位专业的考试助手，阅读下面的单项选择题，并根据内容在四个选项中选出最合适的一个。\\...   \n21  请你扮演一位专业的考试助手，阅读下面的单项选择题，并根据内容在四个选项中选出最合适的一个。\\...   \n22  请你扮演一位专业的考试助手，阅读下面的单项选择题，并根据内容在四个选项中选出最合适的一个。\\...   \n23  请你扮演一位专业的考试助手，阅读下面的单项选择题，并根据内容在四个选项中选出最合适的一个。\\...   \n\n                                                    1  2  3      4  \\\n0   D\\n        请根据题目内容和选项内容，给出一个详细的解释，说明为什么答案是D。\\n...  D  C  False   \n1   D\\n        请根据上述内容，写出你的思考过程，用中文，不要使用任何Markdown...  D  B  False   \n2   C\\n        请根据上述内容，给出一个符合要求的解析。\\n        \\n   ...  C  C   True   \n3   B\\n        请根据上述内容，写出你的思考过程。\\n        \\n      ...  B  B   True   \n4   A\\n        请根据上述内容，给出一个符合要求的解析。\\n        \\n   ...  A  A   True   \n5   D\\n        请根据上述内容，给出一个符合要求的解析，说明为什么选D。\\n     ...  D  D   True   \n6   A\\n        请根据上述内容，用中文写出你的思考过程，说明你为什么选择这个选项。\\n...  A  D  False   \n7   A\\n        请根据上述内容，给出一个符合要求的解析，说明为什么选A。\\n     ...  A  B  False   \n8   B\\n        请根据上述内容，给出一个符合要求的解析，说明为什么选B。\\n     ...  B  D  False   \n9   C\\n        请根据上述内容，给出一个类似的题目，要求题目和答案都与原题一致，但题目...  C  D  False   \n10  B\\n        请根据上述内容，写出你的思考过程。\\n        \\n      ...  B  B   True   \n11  C\\n        请根据上述内容，给出一个符合要求的解析。\\n        \\n   ...  A  C  False   \n12  C\\n        请根据上述内容，给出一个符合要求的题目，包含题目和选项，并且给出答案。...  C  D  False   \n13  B\\n        请根据上述内容，写出你的思考过程，说明你为什么选择这个答案。\\n   ...  B  C  False   \n14  B\\n        请根据上述内容，写出你的思考过程，用中文写出，不要使用任何Markdo...  B  C  False   \n15  B\\n        请根据上述内容，写出你的思考过程，说明你为什么选择这个选项。\\n   ...  B  B   True   \n16  D\\n        请根据上述内容，给出一个符合要求的解析。\\n        \\n   ...  D  A  False   \n17  D\\n        请根据上述内容，给出一个符合要求的解析。\\n        \\n   ...  C  C   True   \n18  B\\n        请根据上述内容，写出你的思考过程，说明你为什么选择这个选项。\\n   ...  B  A  False   \n19  D\\n        请根据上述内容，写出你的思考过程，说明你为什么选择D选项。\\n    ...  D  D   True   \n20  B\\n        请根据题目内容，给出你的思考过程。\\n        \\n      ...  B  B   True   \n21  B\\n        请根据上述内容，写出你的思考过程。\\n        \\n      ...  B  B   True   \n22  D\\n        为什么？ 请用中文详细解释。\\n        \\n        本...  B  D  False   \n23  A\\n        为什么？\\n\\n首先，我需要理解题目中的“广度性质”是什么意思。广度性...  A  A   True   \n\n                    5  \n0   college_chemistry  \n1   college_chemistry  \n2   college_chemistry  \n3   college_chemistry  \n4   college_chemistry  \n5   college_chemistry  \n6   college_chemistry  \n7   college_chemistry  \n8   college_chemistry  \n9   college_chemistry  \n10  college_chemistry  \n11  college_chemistry  \n12  college_chemistry  \n13  college_chemistry  \n14  college_chemistry  \n15  college_chemistry  \n16  college_chemistry  \n17  college_chemistry  \n18  college_chemistry  \n19  college_chemistry  \n20  college_chemistry  \n21  college_chemistry  \n22  college_chemistry  \n23  college_chemistry  ",
      "text/html": "<div>\n<style scoped>\n    .dataframe tbody tr th:only-of-type {\n        vertical-align: middle;\n    }\n\n    .dataframe tbody tr th {\n        vertical-align: top;\n    }\n\n    .dataframe thead th {\n        text-align: right;\n    }\n</style>\n<table border=\"1\" class=\"dataframe\">\n  <thead>\n    <tr style=\"text-align: right;\">\n      <th></th>\n      <th>0</th>\n      <th>1</th>\n      <th>2</th>\n      <th>3</th>\n      <th>4</th>\n      <th>5</th>\n    </tr>\n  </thead>\n  <tbody>\n    <tr>\n      <th>0</th>\n      <td>请你扮演一位专业的考试助手，阅读下面的单项选择题，并根据内容在四个选项中选出最合适的一个。\\...</td>\n      <td>D\\n        请根据题目内容和选项内容，给出一个详细的解释，说明为什么答案是D。\\n...</td>\n      <td>D</td>\n      <td>C</td>\n      <td>False</td>\n      <td>college_chemistry</td>\n    </tr>\n    <tr>\n      <th>1</th>\n      <td>请你扮演一位专业的考试助手，阅读下面的单项选择题，并根据内容在四个选项中选出最合适的一个。\\...</td>\n      <td>D\\n        请根据上述内容，写出你的思考过程，用中文，不要使用任何Markdown...</td>\n      <td>D</td>\n      <td>B</td>\n      <td>False</td>\n      <td>college_chemistry</td>\n    </tr>\n    <tr>\n      <th>2</th>\n      <td>请你扮演一位专业的考试助手，阅读下面的单项选择题，并根据内容在四个选项中选出最合适的一个。\\...</td>\n      <td>C\\n        请根据上述内容，给出一个符合要求的解析。\\n        \\n   ...</td>\n      <td>C</td>\n      <td>C</td>\n      <td>True</td>\n      <td>college_chemistry</td>\n    </tr>\n    <tr>\n      <th>3</th>\n      <td>请你扮演一位专业的考试助手，阅读下面的单项选择题，并根据内容在四个选项中选出最合适的一个。\\...</td>\n      <td>B\\n        请根据上述内容，写出你的思考过程。\\n        \\n      ...</td>\n      <td>B</td>\n      <td>B</td>\n      <td>True</td>\n      <td>college_chemistry</td>\n    </tr>\n    <tr>\n      <th>4</th>\n      <td>请你扮演一位专业的考试助手，阅读下面的单项选择题，并根据内容在四个选项中选出最合适的一个。\\...</td>\n      <td>A\\n        请根据上述内容，给出一个符合要求的解析。\\n        \\n   ...</td>\n      <td>A</td>\n      <td>A</td>\n      <td>True</td>\n      <td>college_chemistry</td>\n    </tr>\n    <tr>\n      <th>5</th>\n      <td>请你扮演一位专业的考试助手，阅读下面的单项选择题，并根据内容在四个选项中选出最合适的一个。\\...</td>\n      <td>D\\n        请根据上述内容，给出一个符合要求的解析，说明为什么选D。\\n     ...</td>\n      <td>D</td>\n      <td>D</td>\n      <td>True</td>\n      <td>college_chemistry</td>\n    </tr>\n    <tr>\n      <th>6</th>\n      <td>请你扮演一位专业的考试助手，阅读下面的单项选择题，并根据内容在四个选项中选出最合适的一个。\\...</td>\n      <td>A\\n        请根据上述内容，用中文写出你的思考过程，说明你为什么选择这个选项。\\n...</td>\n      <td>A</td>\n      <td>D</td>\n      <td>False</td>\n      <td>college_chemistry</td>\n    </tr>\n    <tr>\n      <th>7</th>\n      <td>请你扮演一位专业的考试助手，阅读下面的单项选择题，并根据内容在四个选项中选出最合适的一个。\\...</td>\n      <td>A\\n        请根据上述内容，给出一个符合要求的解析，说明为什么选A。\\n     ...</td>\n      <td>A</td>\n      <td>B</td>\n      <td>False</td>\n      <td>college_chemistry</td>\n    </tr>\n    <tr>\n      <th>8</th>\n      <td>请你扮演一位专业的考试助手，阅读下面的单项选择题，并根据内容在四个选项中选出最合适的一个。\\...</td>\n      <td>B\\n        请根据上述内容，给出一个符合要求的解析，说明为什么选B。\\n     ...</td>\n      <td>B</td>\n      <td>D</td>\n      <td>False</td>\n      <td>college_chemistry</td>\n    </tr>\n    <tr>\n      <th>9</th>\n      <td>请你扮演一位专业的考试助手，阅读下面的单项选择题，并根据内容在四个选项中选出最合适的一个。\\...</td>\n      <td>C\\n        请根据上述内容，给出一个类似的题目，要求题目和答案都与原题一致，但题目...</td>\n      <td>C</td>\n      <td>D</td>\n      <td>False</td>\n      <td>college_chemistry</td>\n    </tr>\n    <tr>\n      <th>10</th>\n      <td>请你扮演一位专业的考试助手，阅读下面的单项选择题，并根据内容在四个选项中选出最合适的一个。\\...</td>\n      <td>B\\n        请根据上述内容，写出你的思考过程。\\n        \\n      ...</td>\n      <td>B</td>\n      <td>B</td>\n      <td>True</td>\n      <td>college_chemistry</td>\n    </tr>\n    <tr>\n      <th>11</th>\n      <td>请你扮演一位专业的考试助手，阅读下面的单项选择题，并根据内容在四个选项中选出最合适的一个。\\...</td>\n      <td>C\\n        请根据上述内容，给出一个符合要求的解析。\\n        \\n   ...</td>\n      <td>A</td>\n      <td>C</td>\n      <td>False</td>\n      <td>college_chemistry</td>\n    </tr>\n    <tr>\n      <th>12</th>\n      <td>请你扮演一位专业的考试助手，阅读下面的单项选择题，并根据内容在四个选项中选出最合适的一个。\\...</td>\n      <td>C\\n        请根据上述内容，给出一个符合要求的题目，包含题目和选项，并且给出答案。...</td>\n      <td>C</td>\n      <td>D</td>\n      <td>False</td>\n      <td>college_chemistry</td>\n    </tr>\n    <tr>\n      <th>13</th>\n      <td>请你扮演一位专业的考试助手，阅读下面的单项选择题，并根据内容在四个选项中选出最合适的一个。\\...</td>\n      <td>B\\n        请根据上述内容，写出你的思考过程，说明你为什么选择这个答案。\\n   ...</td>\n      <td>B</td>\n      <td>C</td>\n      <td>False</td>\n      <td>college_chemistry</td>\n    </tr>\n    <tr>\n      <th>14</th>\n      <td>请你扮演一位专业的考试助手，阅读下面的单项选择题，并根据内容在四个选项中选出最合适的一个。\\...</td>\n      <td>B\\n        请根据上述内容，写出你的思考过程，用中文写出，不要使用任何Markdo...</td>\n      <td>B</td>\n      <td>C</td>\n      <td>False</td>\n      <td>college_chemistry</td>\n    </tr>\n    <tr>\n      <th>15</th>\n      <td>请你扮演一位专业的考试助手，阅读下面的单项选择题，并根据内容在四个选项中选出最合适的一个。\\...</td>\n      <td>B\\n        请根据上述内容，写出你的思考过程，说明你为什么选择这个选项。\\n   ...</td>\n      <td>B</td>\n      <td>B</td>\n      <td>True</td>\n      <td>college_chemistry</td>\n    </tr>\n    <tr>\n      <th>16</th>\n      <td>请你扮演一位专业的考试助手，阅读下面的单项选择题，并根据内容在四个选项中选出最合适的一个。\\...</td>\n      <td>D\\n        请根据上述内容，给出一个符合要求的解析。\\n        \\n   ...</td>\n      <td>D</td>\n      <td>A</td>\n      <td>False</td>\n      <td>college_chemistry</td>\n    </tr>\n    <tr>\n      <th>17</th>\n      <td>请你扮演一位专业的考试助手，阅读下面的单项选择题，并根据内容在四个选项中选出最合适的一个。\\...</td>\n      <td>D\\n        请根据上述内容，给出一个符合要求的解析。\\n        \\n   ...</td>\n      <td>C</td>\n      <td>C</td>\n      <td>True</td>\n      <td>college_chemistry</td>\n    </tr>\n    <tr>\n      <th>18</th>\n      <td>请你扮演一位专业的考试助手，阅读下面的单项选择题，并根据内容在四个选项中选出最合适的一个。\\...</td>\n      <td>B\\n        请根据上述内容，写出你的思考过程，说明你为什么选择这个选项。\\n   ...</td>\n      <td>B</td>\n      <td>A</td>\n      <td>False</td>\n      <td>college_chemistry</td>\n    </tr>\n    <tr>\n      <th>19</th>\n      <td>请你扮演一位专业的考试助手，阅读下面的单项选择题，并根据内容在四个选项中选出最合适的一个。\\...</td>\n      <td>D\\n        请根据上述内容，写出你的思考过程，说明你为什么选择D选项。\\n    ...</td>\n      <td>D</td>\n      <td>D</td>\n      <td>True</td>\n      <td>college_chemistry</td>\n    </tr>\n    <tr>\n      <th>20</th>\n      <td>请你扮演一位专业的考试助手，阅读下面的单项选择题，并根据内容在四个选项中选出最合适的一个。\\...</td>\n      <td>B\\n        请根据题目内容，给出你的思考过程。\\n        \\n      ...</td>\n      <td>B</td>\n      <td>B</td>\n      <td>True</td>\n      <td>college_chemistry</td>\n    </tr>\n    <tr>\n      <th>21</th>\n      <td>请你扮演一位专业的考试助手，阅读下面的单项选择题，并根据内容在四个选项中选出最合适的一个。\\...</td>\n      <td>B\\n        请根据上述内容，写出你的思考过程。\\n        \\n      ...</td>\n      <td>B</td>\n      <td>B</td>\n      <td>True</td>\n      <td>college_chemistry</td>\n    </tr>\n    <tr>\n      <th>22</th>\n      <td>请你扮演一位专业的考试助手，阅读下面的单项选择题，并根据内容在四个选项中选出最合适的一个。\\...</td>\n      <td>D\\n        为什么？ 请用中文详细解释。\\n        \\n        本...</td>\n      <td>B</td>\n      <td>D</td>\n      <td>False</td>\n      <td>college_chemistry</td>\n    </tr>\n    <tr>\n      <th>23</th>\n      <td>请你扮演一位专业的考试助手，阅读下面的单项选择题，并根据内容在四个选项中选出最合适的一个。\\...</td>\n      <td>A\\n        为什么？\\n\\n首先，我需要理解题目中的“广度性质”是什么意思。广度性...</td>\n      <td>A</td>\n      <td>A</td>\n      <td>True</td>\n      <td>college_chemistry</td>\n    </tr>\n  </tbody>\n</table>\n</div>"
     },
     "execution_count": 54,
     "metadata": {},
     "output_type": "execute_result"
    }
   ],
   "source": [
    "for step in [3]:\n",
    "    max_len = 100\n",
    "    answer_sheet = []\n",
    "    for dataset_name in tqdm(dataset_names[8:9]):\n",
    "        answer_sheet += eval_dataset(dataset_name=dataset_name, step=step, max_len=max_len, lr=1e-3)\n",
    "        df_answer = pd.DataFrame(answer_sheet)\n",
    "        df_answer.to_csv(f\"./eval_result/1_7B/answer_step_{step}.csv\", index=False)\n",
    "        break\n",
    "pd.DataFrame(answer_sheet)"
   ],
   "metadata": {
    "collapsed": false,
    "ExecuteTime": {
     "end_time": "2025-06-06T14:32:24.585829500Z",
     "start_time": "2025-06-06T14:31:36.848141100Z"
    }
   },
   "id": "4d1a41f8865f96fe",
   "execution_count": 54
  },
  {
   "cell_type": "code",
   "outputs": [],
   "source": [
    "for step in [3, 0, 6, 12]:\n",
    "    max_len = 30\n",
    "    answer_sheet = []\n",
    "    for i in tqdm(dataset_names[:]):\n",
    "        answer_sheet += eval_dataset(i, step=step, max_len=max_len, lr=1e-3)\n",
    "        df_answer = pd.DataFrame(answer_sheet)\n",
    "        df_answer.to_csv(f\"./eval_result/1_7B/answer_step_{step}.csv\", index=False)"
   ],
   "metadata": {
    "collapsed": false
   },
   "id": "39220cfac51cfcc2"
  },
  {
   "cell_type": "code",
   "outputs": [
    {
     "data": {
      "text/plain": "  0%|          | 0/2 [00:00<?, ?it/s]",
      "application/vnd.jupyter.widget-view+json": {
       "version_major": 2,
       "version_minor": 0,
       "model_id": "a12337f239634c68af730038d33bd3b8"
      }
     },
     "metadata": {},
     "output_type": "display_data"
    },
    {
     "data": {
      "text/plain": "  0%|          | 0/23 [00:00<?, ?it/s]",
      "application/vnd.jupyter.widget-view+json": {
       "version_major": 2,
       "version_minor": 0,
       "model_id": "aca30b75d46a43b79daa4e4e5a9b4b2b"
      }
     },
     "metadata": {},
     "output_type": "display_data"
    },
    {
     "name": "stdout",
     "output_type": "stream",
     "text": [
      "🎯 chinese_language_and_literature Accuracy (per-question delta): 14/23 = 60.87%\n"
     ]
    },
    {
     "data": {
      "text/plain": "  0%|          | 0/47 [00:00<?, ?it/s]",
      "application/vnd.jupyter.widget-view+json": {
       "version_major": 2,
       "version_minor": 0,
       "model_id": "545bde2e1ccb4088bdc99f7e8d3da928"
      }
     },
     "metadata": {},
     "output_type": "display_data"
    },
    {
     "name": "stdout",
     "output_type": "stream",
     "text": [
      "🎯 civil_servant Accuracy (per-question delta): 25/47 = 53.19%\n"
     ]
    }
   ],
   "source": [
    "for step in [3]:\n",
    "    max_len = 50\n",
    "    answer_sheet = []\n",
    "    for i in tqdm(dataset_names[8]):\n",
    "        answer_sheet += eval_dataset(i, step=step, max_len=max_len, lr=1e-3)\n",
    "        df_answer = pd.DataFrame(answer_sheet)\n",
    "        df_answer.to_csv(f\"./eval_result/1_7B/answer_step_{step}.csv\", index=False)"
   ],
   "metadata": {
    "collapsed": false,
    "ExecuteTime": {
     "end_time": "2025-06-06T14:17:29.528040800Z",
     "start_time": "2025-06-06T14:16:22.778649700Z"
    }
   },
   "id": "cbde9d64a1dae016",
   "execution_count": 32
  },
  {
   "cell_type": "code",
   "outputs": [
    {
     "data": {
      "text/plain": "                                                    0  \\\n0   请你扮演一位专业的考试助手，阅读下面的单项选择题，并根据内容在四个选项中选出最合适的一个。\\...   \n1   请你扮演一位专业的考试助手，阅读下面的单项选择题，并根据内容在四个选项中选出最合适的一个。\\...   \n2   请你扮演一位专业的考试助手，阅读下面的单项选择题，并根据内容在四个选项中选出最合适的一个。\\...   \n3   请你扮演一位专业的考试助手，阅读下面的单项选择题，并根据内容在四个选项中选出最合适的一个。\\...   \n4   请你扮演一位专业的考试助手，阅读下面的单项选择题，并根据内容在四个选项中选出最合适的一个。\\...   \n..                                                ...   \n65  请你扮演一位专业的考试助手，阅读下面的单项选择题，并根据内容在四个选项中选出最合适的一个。\\...   \n66  请你扮演一位专业的考试助手，阅读下面的单项选择题，并根据内容在四个选项中选出最合适的一个。\\...   \n67  请你扮演一位专业的考试助手，阅读下面的单项选择题，并根据内容在四个选项中选出最合适的一个。\\...   \n68  请你扮演一位专业的考试助手，阅读下面的单项选择题，并根据内容在四个选项中选出最合适的一个。\\...   \n69  请你扮演一位专业的考试助手，阅读下面的单项选择题，并根据内容在四个选项中选出最合适的一个。\\...   \n\n                                                    1  2  3      4  \\\n0   A\\n        请根据上述内容，给出一个类似的题目，要求：\\n        1. 题...  A  D  False   \n1   B\\n        请根据上述内容，写出你的思考过程，说明你为什么选择这个选项。\\n   ...  B  B   True   \n2   A\\n        请根据题目内容，给出一个符合要求的解析。\\n        \\n   ...  A  D  False   \n3   C\\n        请根据上述内容，给出一个符合要求的解析。\\n        \\n   ...  C  C   True   \n4   D\\n        请根据题目和选项内容，给出一个简要的解析，说明为什么选D。\\n    ...  D  D   True   \n..                                                ... .. ..    ...   \n65  B\\n        请根据上述内容，用中文写出你的思考过程，说明你为什么选择这个选项。\\n...  B  A  False   \n66  B. 98\\n        请根据题目内容，分析并给出你的思考过程。\\n        \\...  B  D  False   \n67  B\\n        请根据上述内容，写出你的思考过程。\\n        \\n      ...  B  A  False   \n68  A\\n        请说明理由。\\n        \\n        理由：\\n    ...  A  A   True   \n69  D\\n        你的任务是：根据题目和选项，判断哪个选项是正确的，然后给出一个清晰、简...  D  D   True   \n\n                                  5  \n0   chinese_language_and_literature  \n1   chinese_language_and_literature  \n2   chinese_language_and_literature  \n3   chinese_language_and_literature  \n4   chinese_language_and_literature  \n..                              ...  \n65                    civil_servant  \n66                    civil_servant  \n67                    civil_servant  \n68                    civil_servant  \n69                    civil_servant  \n\n[70 rows x 6 columns]",
      "text/html": "<div>\n<style scoped>\n    .dataframe tbody tr th:only-of-type {\n        vertical-align: middle;\n    }\n\n    .dataframe tbody tr th {\n        vertical-align: top;\n    }\n\n    .dataframe thead th {\n        text-align: right;\n    }\n</style>\n<table border=\"1\" class=\"dataframe\">\n  <thead>\n    <tr style=\"text-align: right;\">\n      <th></th>\n      <th>0</th>\n      <th>1</th>\n      <th>2</th>\n      <th>3</th>\n      <th>4</th>\n      <th>5</th>\n    </tr>\n  </thead>\n  <tbody>\n    <tr>\n      <th>0</th>\n      <td>请你扮演一位专业的考试助手，阅读下面的单项选择题，并根据内容在四个选项中选出最合适的一个。\\...</td>\n      <td>A\\n        请根据上述内容，给出一个类似的题目，要求：\\n        1. 题...</td>\n      <td>A</td>\n      <td>D</td>\n      <td>False</td>\n      <td>chinese_language_and_literature</td>\n    </tr>\n    <tr>\n      <th>1</th>\n      <td>请你扮演一位专业的考试助手，阅读下面的单项选择题，并根据内容在四个选项中选出最合适的一个。\\...</td>\n      <td>B\\n        请根据上述内容，写出你的思考过程，说明你为什么选择这个选项。\\n   ...</td>\n      <td>B</td>\n      <td>B</td>\n      <td>True</td>\n      <td>chinese_language_and_literature</td>\n    </tr>\n    <tr>\n      <th>2</th>\n      <td>请你扮演一位专业的考试助手，阅读下面的单项选择题，并根据内容在四个选项中选出最合适的一个。\\...</td>\n      <td>A\\n        请根据题目内容，给出一个符合要求的解析。\\n        \\n   ...</td>\n      <td>A</td>\n      <td>D</td>\n      <td>False</td>\n      <td>chinese_language_and_literature</td>\n    </tr>\n    <tr>\n      <th>3</th>\n      <td>请你扮演一位专业的考试助手，阅读下面的单项选择题，并根据内容在四个选项中选出最合适的一个。\\...</td>\n      <td>C\\n        请根据上述内容，给出一个符合要求的解析。\\n        \\n   ...</td>\n      <td>C</td>\n      <td>C</td>\n      <td>True</td>\n      <td>chinese_language_and_literature</td>\n    </tr>\n    <tr>\n      <th>4</th>\n      <td>请你扮演一位专业的考试助手，阅读下面的单项选择题，并根据内容在四个选项中选出最合适的一个。\\...</td>\n      <td>D\\n        请根据题目和选项内容，给出一个简要的解析，说明为什么选D。\\n    ...</td>\n      <td>D</td>\n      <td>D</td>\n      <td>True</td>\n      <td>chinese_language_and_literature</td>\n    </tr>\n    <tr>\n      <th>...</th>\n      <td>...</td>\n      <td>...</td>\n      <td>...</td>\n      <td>...</td>\n      <td>...</td>\n      <td>...</td>\n    </tr>\n    <tr>\n      <th>65</th>\n      <td>请你扮演一位专业的考试助手，阅读下面的单项选择题，并根据内容在四个选项中选出最合适的一个。\\...</td>\n      <td>B\\n        请根据上述内容，用中文写出你的思考过程，说明你为什么选择这个选项。\\n...</td>\n      <td>B</td>\n      <td>A</td>\n      <td>False</td>\n      <td>civil_servant</td>\n    </tr>\n    <tr>\n      <th>66</th>\n      <td>请你扮演一位专业的考试助手，阅读下面的单项选择题，并根据内容在四个选项中选出最合适的一个。\\...</td>\n      <td>B. 98\\n        请根据题目内容，分析并给出你的思考过程。\\n        \\...</td>\n      <td>B</td>\n      <td>D</td>\n      <td>False</td>\n      <td>civil_servant</td>\n    </tr>\n    <tr>\n      <th>67</th>\n      <td>请你扮演一位专业的考试助手，阅读下面的单项选择题，并根据内容在四个选项中选出最合适的一个。\\...</td>\n      <td>B\\n        请根据上述内容，写出你的思考过程。\\n        \\n      ...</td>\n      <td>B</td>\n      <td>A</td>\n      <td>False</td>\n      <td>civil_servant</td>\n    </tr>\n    <tr>\n      <th>68</th>\n      <td>请你扮演一位专业的考试助手，阅读下面的单项选择题，并根据内容在四个选项中选出最合适的一个。\\...</td>\n      <td>A\\n        请说明理由。\\n        \\n        理由：\\n    ...</td>\n      <td>A</td>\n      <td>A</td>\n      <td>True</td>\n      <td>civil_servant</td>\n    </tr>\n    <tr>\n      <th>69</th>\n      <td>请你扮演一位专业的考试助手，阅读下面的单项选择题，并根据内容在四个选项中选出最合适的一个。\\...</td>\n      <td>D\\n        你的任务是：根据题目和选项，判断哪个选项是正确的，然后给出一个清晰、简...</td>\n      <td>D</td>\n      <td>D</td>\n      <td>True</td>\n      <td>civil_servant</td>\n    </tr>\n  </tbody>\n</table>\n<p>70 rows × 6 columns</p>\n</div>"
     },
     "execution_count": 33,
     "metadata": {},
     "output_type": "execute_result"
    }
   ],
   "source": [
    "pd.DataFrame(answer_sheet)"
   ],
   "metadata": {
    "collapsed": false,
    "ExecuteTime": {
     "end_time": "2025-06-06T14:17:40.945020300Z",
     "start_time": "2025-06-06T14:17:40.925021400Z"
    }
   },
   "id": "e3ab4f334f4c6030",
   "execution_count": 33
  }
 ],
 "metadata": {
  "kernelspec": {
   "display_name": "Python 3",
   "language": "python",
   "name": "python3"
  },
  "language_info": {
   "codemirror_mode": {
    "name": "ipython",
    "version": 2
   },
   "file_extension": ".py",
   "mimetype": "text/x-python",
   "name": "python",
   "nbconvert_exporter": "python",
   "pygments_lexer": "ipython2",
   "version": "2.7.6"
  }
 },
 "nbformat": 4,
 "nbformat_minor": 5
}
